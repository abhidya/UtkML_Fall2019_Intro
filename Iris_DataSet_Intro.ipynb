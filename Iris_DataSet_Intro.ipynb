{
  "nbformat": 4,
  "nbformat_minor": 0,
  "metadata": {
    "kernelspec": {
      "display_name": "Python 3",
      "language": "python",
      "name": "python3"
    },
    "language_info": {
      "codemirror_mode": {
        "name": "ipython",
        "version": 3
      },
      "file_extension": ".py",
      "mimetype": "text/x-python",
      "name": "python",
      "nbconvert_exporter": "python",
      "pygments_lexer": "ipython3",
      "version": "3.6.1"
    },
    "colab": {
      "name": "Iris DataSet Intro.ipynb",
      "version": "0.3.2",
      "provenance": [],
      "include_colab_link": true
    }
  },
  "cells": [
    {
      "cell_type": "markdown",
      "metadata": {
        "id": "view-in-github",
        "colab_type": "text"
      },
      "source": [
        "<a href=\"https://colab.research.google.com/github/abhidya/UtklML_Fall2019_Intro/blob/master/Iris_DataSet_Intro.ipynb\" target=\"_parent\"><img src=\"https://colab.research.google.com/assets/colab-badge.svg\" alt=\"Open In Colab\"/></a>"
      ]
    },
    {
      "cell_type": "code",
      "metadata": {
        "_cell_guid": "417ebd30-953c-492a-b185-9bb2742e9fee",
        "_uuid": "f118af7ce42b355fae7faa8db9d5d0157611517d",
        "id": "v1KS_OxO9QBQ",
        "colab_type": "code",
        "colab": {}
      },
      "source": [
        "import numpy as np\n",
        "import pandas as pd\n",
        "\n",
        "import matplotlib.pyplot as plt\n",
        "import seaborn as sns\n",
        "sns.set_palette('husl')\n",
        "%matplotlib inline\n",
        "\n",
        "\n",
        "import sklearn.ensemble as models\n",
        "from sklearn.model_selection import train_test_split\n",
        "from sklearn.datasets import load_iris\n",
        "\n",
        "import warnings\n",
        "warnings.filterwarnings('ignore')\n",
        "\n",
        "\n",
        "\n",
        "url = \"https://archive.ics.uci.edu/ml/machine-learning-databases/iris/iris.data\"\n",
        "new_names = ['SepalLengthCm','SepalWidthCm','PetalLengthCm','PetalWidthCm','Species']\n",
        "data = pd.read_csv(url, names=new_names, skiprows=0, delimiter=',')\n",
        "\n"
      ],
      "execution_count": 0,
      "outputs": []
    },
    {
      "cell_type": "markdown",
      "metadata": {
        "id": "ebpKdfb8I5qv",
        "colab_type": "text"
      },
      "source": [
        "![Iris_image](https://storage.googleapis.com/kaggle-datasets-images/19/19/default-backgrounds/dataset-thumbnail.jpg)\n",
        "[Explore Data on Kaggle](https://www.kaggle.com/uciml/iris)"
      ]
    },
    {
      "cell_type": "markdown",
      "metadata": {
        "_cell_guid": "8c64d903-f69b-4983-8748-8522e8fe2bbf",
        "_uuid": "afeecf9d79fc1c4d87f459e7405d79a4f6cbef0a",
        "id": "sOba5S569QBV",
        "colab_type": "text"
      },
      "source": [
        "# Preview of Data\n",
        "- There are 150 observations with 4 features each (sepal length, sepal width, petal length, petal width).\n",
        "- There are no null values, so we don't have to worry about that.\n",
        "- There are 50 observations of each species (setosa, versicolor, virginica)."
      ]
    },
    {
      "cell_type": "code",
      "metadata": {
        "_cell_guid": "ae265ce5-40f4-447c-aea0-d5ddbe4abeb5",
        "_uuid": "07bf049c5cabf2ecb75818c4e103e94fcf1e49d4",
        "id": "3snFTw3X9QBW",
        "colab_type": "code",
        "colab": {}
      },
      "source": [
        "data.head()"
      ],
      "execution_count": 0,
      "outputs": []
    },
    {
      "cell_type": "code",
      "metadata": {
        "_cell_guid": "9257acb0-2b8b-42f5-bc7d-6c08976469f5",
        "_uuid": "84a4b1dbfb7b5a89d3c73e1113482b4b50985b14",
        "id": "e3zFDLVr9QBa",
        "colab_type": "code",
        "colab": {}
      },
      "source": [
        "data.info()"
      ],
      "execution_count": 0,
      "outputs": []
    },
    {
      "cell_type": "code",
      "metadata": {
        "_uuid": "2f51406bff802aae1c0efa7289434a9b60f13bee",
        "id": "THhqQeVz9QBd",
        "colab_type": "code",
        "colab": {}
      },
      "source": [
        "data.describe()"
      ],
      "execution_count": 0,
      "outputs": []
    },
    {
      "cell_type": "code",
      "metadata": {
        "_cell_guid": "13958377-5c7c-420b-b06f-ad5998c59665",
        "_uuid": "876817fced0db3d4bbbd95a64359f124ee6707c4",
        "id": "3j0TkdZy9QBg",
        "colab_type": "code",
        "colab": {}
      },
      "source": [
        "data['Species'].value_counts()"
      ],
      "execution_count": 0,
      "outputs": []
    },
    {
      "cell_type": "markdown",
      "metadata": {
        "_cell_guid": "2a1077f5-b314-4040-a309-59fc1b8d6c15",
        "_uuid": "a67d48fef35b8e62a47774ced7f9a4ae4b562858",
        "id": "wSsbi_HR9QBj",
        "colab_type": "text"
      },
      "source": [
        "# Data Visualization\n",
        "- After graphing the features in a pair plot, it is clear that the relationship between pairs of features of a iris-setosa (in pink) is distinctly different from those of the other two species.\n",
        "- There is some overlap in the pairwise relationships of the other two species, iris-versicolor (brown) and iris-virginica (green).\n"
      ]
    },
    {
      "cell_type": "code",
      "metadata": {
        "_cell_guid": "13293bbc-e587-4085-916f-ac5bafbbfaf0",
        "_uuid": "fd15b6089651f32d213555b27b7ffbc0655b6447",
        "id": "eBkG0gL89QBl",
        "colab_type": "code",
        "colab": {}
      },
      "source": [
        "g = sns.pairplot(data, hue='Species')\n",
        "plt.show()"
      ],
      "execution_count": 0,
      "outputs": []
    },
    {
      "cell_type": "code",
      "metadata": {
        "_uuid": "cee3e44ff3c1a3a28ad1eb1df02ead6b331e083a",
        "scrolled": true,
        "id": "BWFTxzXB9QBo",
        "colab_type": "code",
        "colab": {}
      },
      "source": [
        "g = sns.violinplot(y='Species', x='SepalLengthCm', data=data, inner='quartile')\n",
        "plt.show()\n",
        "g = sns.violinplot(y='Species', x='SepalWidthCm', data=data, inner='quartile')\n",
        "plt.show()\n",
        "g = sns.violinplot(y='Species', x='PetalLengthCm', data=data, inner='quartile')\n",
        "plt.show()\n",
        "g = sns.violinplot(y='Species', x='PetalWidthCm', data=data, inner='quartile')\n",
        "plt.show()"
      ],
      "execution_count": 0,
      "outputs": []
    },
    {
      "cell_type": "markdown",
      "metadata": {
        "_cell_guid": "5fe31716-3cd8-444a-a17f-bed7659afd0f",
        "_uuid": "edf8f09be66977b2258436e6a9128d6639469d01",
        "id": "U3EPfU739QBr",
        "colab_type": "text"
      },
      "source": [
        "# Modeling with scikit-learn"
      ]
    },
    {
      "cell_type": "code",
      "metadata": {
        "id": "vytaGv2CHjFK",
        "colab_type": "code",
        "colab": {}
      },
      "source": [
        "\n",
        "train, test =  train_test_split(data)\n",
        "\n",
        "\n",
        "print(train.shape)\n",
        "print(test.shape)\n",
        "\n",
        "trainx = train[['SepalLengthCm','SepalWidthCm','PetalLengthCm','PetalWidthCm']]\n",
        "trainy = train[[\"Species\"]]\n",
        "\n",
        "testx = test[['SepalLengthCm','SepalWidthCm','PetalLengthCm','PetalWidthCm']]\n",
        "testy = test[[\"Species\"]]"
      ],
      "execution_count": 0,
      "outputs": []
    },
    {
      "cell_type": "markdown",
      "metadata": {
        "id": "FspJKXlFJlny",
        "colab_type": "text"
      },
      "source": [
        "**Here are the different types of classification models available in Scikit Learn **\n",
        "## [Classification Model Documentation](https://scikit-learn.org/stable/supervised_learning.html#supervised-learning)"
      ]
    },
    {
      "cell_type": "code",
      "metadata": {
        "id": "BiDbSioIHha6",
        "colab_type": "code",
        "colab": {}
      },
      "source": [
        "from sklearn import tree\n",
        "\n",
        "model = tree.DecisionTreeClassifier()\n"
      ],
      "execution_count": 0,
      "outputs": []
    },
    {
      "cell_type": "code",
      "metadata": {
        "_cell_guid": "20c0f613-e162-4473-8292-4eca12c7343f",
        "_uuid": "8a9c62f5fe8a7e0a78896d0edac6cf769a6b1751",
        "id": "eye6VIwA9QBr",
        "colab_type": "code",
        "colab": {}
      },
      "source": [
        "model.fit(trainx, train[[\"Species\"]])\n",
        "\n",
        "print(model.score(testx, testy))\n"
      ],
      "execution_count": 0,
      "outputs": []
    }
  ]
}