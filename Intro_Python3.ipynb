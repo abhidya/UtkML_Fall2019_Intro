{
  "nbformat": 4,
  "nbformat_minor": 0,
  "metadata": {
    "colab": {
      "name": "Intro Python3.ipynb",
      "version": "0.3.2",
      "provenance": [],
      "include_colab_link": true
    },
    "kernelspec": {
      "name": "python3",
      "display_name": "Python 3"
    }
  },
  "cells": [
    {
      "cell_type": "markdown",
      "metadata": {
        "id": "view-in-github",
        "colab_type": "text"
      },
      "source": [
        "<a href=\"https://colab.research.google.com/github/abhidya/UtklML_Fall2019_Intro/blob/master/Intro_Python3.ipynb\" target=\"_parent\"><img src=\"https://colab.research.google.com/assets/colab-badge.svg\" alt=\"Open In Colab\"/></a>"
      ]
    },
    {
      "cell_type": "markdown",
      "metadata": {
        "id": "b7GCuHRqzSUo",
        "colab_type": "text"
      },
      "source": [
        "<h1 align=\"center\"> Python Basics</h1>"
      ]
    },
    {
      "cell_type": "markdown",
      "metadata": {
        "id": "avIJ0ZsHzSUs",
        "colab_type": "text"
      },
      "source": [
        "## Why Python\n",
        "\n",
        "Python is Open Source (Free). Lots of people from around the world are continually improving python. Used worldwide at top tier companies (youtube, google, yelp, etc) <br>\n",
        "\n",
        "Also Nature recommends it [(link)](http://www.nature.com/news/programming-pick-up-python-1.16833)"
      ]
    },
    {
      "cell_type": "markdown",
      "metadata": {
        "id": "p_TtZ4blzSUt",
        "colab_type": "text"
      },
      "source": [
        "## Why IPython/Jupyter\n",
        "\n",
        "The IPython Notebook is another popular package — “a coder's lab notebook” — that allows users to interleave data, code and explanatory text in a single browser-based page, rather than in separate files"
      ]
    },
    {
      "cell_type": "markdown",
      "metadata": {
        "id": "VyF9SS0AzSUu",
        "colab_type": "text"
      },
      "source": [
        "### Install Anaconda\n",
        "If you don't have python installed, please see the blog post or youtube video for your operating system (Mac, Windows Ubuntu)"
      ]
    },
    {
      "cell_type": "markdown",
      "metadata": {
        "id": "HCXWAhgpzSUv",
        "colab_type": "text"
      },
      "source": [
        "Operating System | Blog Post | Youtube Video\n",
        "--- | --- | ---\n",
        "Mac | [Install Anaconda on Mac](https://medium.com/@GalarnykMichael/install-python-on-mac-anaconda-ccd9f2014072#.lvhw2gt3k \"Install Anaconda on Mac\") | [Youtube Video](https://www.youtube.com/watch?v=B6d5LrA8bNE \"Youtube Video\")\n",
        "Ubuntu | [Install Anaconda on Ubuntu](https://medium.com/@GalarnykMichael/install-python-on-ubuntu-anaconda-65623042cb5a#.4kwsp0wjl \"Install Anaconda on Ubuntu\") | [Youtube Video](https://www.youtube.com/watch?v=jo4RMiM-ihs \"Youtube Video\")\n",
        "Windows | [Install Anaconda on Windows](https://medium.com/@GalarnykMichael/install-python-on-windows-anaconda-c63c7c3d1444#.66f7y3whf \"Install Anaconda on Windows\") | [Youtube Video](https://www.youtube.com/watch?v=dgjEUcccRwM \"Youtube Video\")"
      ]
    },
    {
      "cell_type": "markdown",
      "metadata": {
        "id": "0JP5n_orzSUw",
        "colab_type": "text"
      },
      "source": [
        "## Basic Types\n",
        "\n",
        "The main basic data types in python are numbers (ints and floats), booleans and strings."
      ]
    },
    {
      "cell_type": "markdown",
      "metadata": {
        "id": "Ips845GSzSUx",
        "colab_type": "text"
      },
      "source": [
        "### Hello World!\n",
        "alphanumeric characters in quotations"
      ]
    },
    {
      "cell_type": "code",
      "metadata": {
        "id": "9Y2EOI7zzSUy",
        "colab_type": "code",
        "outputId": "f22430ea-2f2a-449e-8cbb-1992090a9db4",
        "colab": {}
      },
      "source": [
        "# This is a one line comment\n",
        "print('Hello World!')"
      ],
      "execution_count": 0,
      "outputs": [
        {
          "output_type": "stream",
          "text": [
            "Hello World!\n"
          ],
          "name": "stdout"
        }
      ]
    },
    {
      "cell_type": "code",
      "metadata": {
        "id": "eZ2qQY7uzSU4",
        "colab_type": "code",
        "outputId": "3b69f959-85ca-43cf-ed7f-75bb44c3e38a",
        "colab": {}
      },
      "source": [
        "# Strings can be enclosed by ',\", or \"\"\"\n",
        "print(\"Hello World!\")"
      ],
      "execution_count": 0,
      "outputs": [
        {
          "output_type": "stream",
          "text": [
            "Hello World!\n"
          ],
          "name": "stdout"
        }
      ]
    },
    {
      "cell_type": "code",
      "metadata": {
        "id": "zIktuohwzSVA",
        "colab_type": "code",
        "outputId": "669bef4f-a0e9-4fd9-b1f3-dcc4dfc635c5",
        "colab": {}
      },
      "source": [
        "print(\"The \\n makes a new line\")"
      ],
      "execution_count": 0,
      "outputs": [
        {
          "output_type": "stream",
          "text": [
            "The \n",
            " makes a new line\n"
          ],
          "name": "stdout"
        }
      ]
    },
    {
      "cell_type": "code",
      "metadata": {
        "id": "ydsWN0DazSVD",
        "colab_type": "code",
        "outputId": "9c8165ef-1973-4f75-c005-a0218659db5b",
        "colab": {}
      },
      "source": [
        "print(\"The \\t is a tab\")"
      ],
      "execution_count": 0,
      "outputs": [
        {
          "output_type": "stream",
          "text": [
            "The \t is a tab\n"
          ],
          "name": "stdout"
        }
      ]
    },
    {
      "cell_type": "code",
      "metadata": {
        "id": "i9szdUV9zSVN",
        "colab_type": "code",
        "outputId": "70e55efb-8d12-431e-d6eb-eea16dbd3ccc",
        "colab": {}
      },
      "source": [
        "# Creating a variable\n",
        "# Variables are used to store information to be referenced \n",
        "# and manipulated in a computer program.\n",
        "\n",
        "firstVariable = 'Hello World'\n",
        "print(firstVariable)"
      ],
      "execution_count": 0,
      "outputs": [
        {
          "output_type": "stream",
          "text": [
            "Hello World\n"
          ],
          "name": "stdout"
        }
      ]
    },
    {
      "cell_type": "markdown",
      "metadata": {
        "id": "9jCORBbXzSVQ",
        "colab_type": "text"
      },
      "source": [
        "### String Manipulations"
      ]
    },
    {
      "cell_type": "markdown",
      "metadata": {
        "id": "ELJgbvwAzSVR",
        "colab_type": "text"
      },
      "source": [
        "Strings are a special type of a python class. As objects, in a class, you can call methods on string objects using the .methodName() notation. The string class is available by default in python, so you do not need an import statement to use the object interface to strings."
      ]
    },
    {
      "cell_type": "code",
      "metadata": {
        "id": "0QDgqOxOzSVS",
        "colab_type": "code",
        "outputId": "f77bf415-adfb-4f19-9140-c9bbbb5a81f4",
        "colab": {}
      },
      "source": [
        "# go over ? mark after if you are not sure what method does. \n",
        "print(firstVariable.lower())\n",
        "print(firstVariable.upper())\n",
        "print(firstVariable.title())"
      ],
      "execution_count": 0,
      "outputs": [
        {
          "output_type": "stream",
          "text": [
            "hello world\n",
            "HELLO WORLD\n",
            "Hello World\n"
          ],
          "name": "stdout"
        }
      ]
    },
    {
      "cell_type": "code",
      "metadata": {
        "id": "dlxGGbXozSVc",
        "colab_type": "code",
        "outputId": "5d1e7b04-834d-4b6b-baed-706fd322d17b",
        "colab": {}
      },
      "source": [
        "# Can also use help\n",
        "help(firstVariable.lower)"
      ],
      "execution_count": 0,
      "outputs": [
        {
          "output_type": "stream",
          "text": [
            "Help on built-in function lower:\n",
            "\n",
            "lower(...)\n",
            "    S.lower() -> string\n",
            "    \n",
            "    Return a copy of the string S converted to lowercase.\n",
            "\n"
          ],
          "name": "stdout"
        }
      ]
    },
    {
      "cell_type": "code",
      "metadata": {
        "id": "AytlWRj0zSVi",
        "colab_type": "code",
        "outputId": "59232fce-3cec-4523-9b2a-049751e733a2",
        "colab": {}
      },
      "source": [
        "firstVariable.split(' ')"
      ],
      "execution_count": 0,
      "outputs": [
        {
          "output_type": "execute_result",
          "data": {
            "text/plain": [
              "['Hello', 'World']"
            ]
          },
          "metadata": {
            "tags": []
          },
          "execution_count": 29
        }
      ]
    },
    {
      "cell_type": "code",
      "metadata": {
        "id": "CIf8Z_DVzSVl",
        "colab_type": "code",
        "outputId": "f9ce156a-adf8-4251-cb29-e057bffe69d2",
        "colab": {}
      },
      "source": [
        "a=firstVariable.split(' ')\n",
        "a"
      ],
      "execution_count": 0,
      "outputs": [
        {
          "output_type": "execute_result",
          "data": {
            "text/plain": [
              "['Hello', 'World']"
            ]
          },
          "metadata": {
            "tags": []
          },
          "execution_count": 30
        }
      ]
    },
    {
      "cell_type": "code",
      "metadata": {
        "id": "Ks5iDDCbzSVo",
        "colab_type": "code",
        "outputId": "1f1a6875-c9e8-4236-9bba-7cfd79e342fe",
        "colab": {}
      },
      "source": [
        "' '.join(a)"
      ],
      "execution_count": 0,
      "outputs": [
        {
          "output_type": "execute_result",
          "data": {
            "text/plain": [
              "'Hello World'"
            ]
          },
          "metadata": {
            "tags": []
          },
          "execution_count": 31
        }
      ]
    },
    {
      "cell_type": "code",
      "metadata": {
        "id": "xvAiFKrJzSVq",
        "colab_type": "code",
        "outputId": "307b01d9-21e8-4f63-f32d-525381b764d0",
        "colab": {}
      },
      "source": [
        "print(\"0\" + \"1\")"
      ],
      "execution_count": 0,
      "outputs": [
        {
          "output_type": "stream",
          "text": [
            "01\n"
          ],
          "name": "stdout"
        }
      ]
    },
    {
      "cell_type": "code",
      "metadata": {
        "id": "FcG4YSafzSVt",
        "colab_type": "code",
        "outputId": "8c291305-c40d-4d2a-fb0f-aa03246a790d",
        "colab": {}
      },
      "source": [
        "\"0\" * 3"
      ],
      "execution_count": 0,
      "outputs": [
        {
          "output_type": "execute_result",
          "data": {
            "text/plain": [
              "'000'"
            ]
          },
          "metadata": {
            "tags": []
          },
          "execution_count": 33
        }
      ]
    },
    {
      "cell_type": "code",
      "metadata": {
        "id": "SVi7Ji1czSV0",
        "colab_type": "code",
        "outputId": "142a2d63-c30c-42b2-a517-418711e590da",
        "colab": {}
      },
      "source": [
        "# You can add strings together. \n",
        "\"Fizz\" + \"Buzz\""
      ],
      "execution_count": 0,
      "outputs": [
        {
          "output_type": "execute_result",
          "data": {
            "text/plain": [
              "'FizzBuzz'"
            ]
          },
          "metadata": {
            "tags": []
          },
          "execution_count": 34
        }
      ]
    },
    {
      "cell_type": "markdown",
      "metadata": {
        "id": "CZu8MObCzSV5",
        "colab_type": "text"
      },
      "source": [
        "## Simple Math"
      ]
    },
    {
      "cell_type": "markdown",
      "metadata": {
        "id": "qmvhAPs-zSV6",
        "colab_type": "text"
      },
      "source": [
        "There are four distinct numeric types: plain integers, long integers, floating point numbers, and complex numbers. In addition, Booleans are a subtype of plain integers."
      ]
    },
    {
      "cell_type": "code",
      "metadata": {
        "id": "7jwCyejJzSV9",
        "colab_type": "code",
        "outputId": "4f53ec0a-1103-4335-9b7b-6230ce5e3a11",
        "colab": {}
      },
      "source": [
        "# Addition, add two int together\n",
        "1+1"
      ],
      "execution_count": 0,
      "outputs": [
        {
          "output_type": "execute_result",
          "data": {
            "text/plain": [
              "2"
            ]
          },
          "metadata": {
            "tags": []
          },
          "execution_count": 138
        }
      ]
    },
    {
      "cell_type": "code",
      "metadata": {
        "id": "iJcjMN_IzSWF",
        "colab_type": "code",
        "outputId": "868511dd-a28d-40bc-a09d-d6061c48696b",
        "colab": {}
      },
      "source": [
        "130-2"
      ],
      "execution_count": 0,
      "outputs": [
        {
          "output_type": "execute_result",
          "data": {
            "text/plain": [
              "128"
            ]
          },
          "metadata": {
            "tags": []
          },
          "execution_count": 140
        }
      ]
    },
    {
      "cell_type": "code",
      "metadata": {
        "id": "xUgiFSZvzSWN",
        "colab_type": "code",
        "outputId": "573f6544-d682-4bfb-b980-6c2bc82b614a",
        "colab": {}
      },
      "source": [
        "# integer division\n",
        "130/2    "
      ],
      "execution_count": 0,
      "outputs": [
        {
          "output_type": "execute_result",
          "data": {
            "text/plain": [
              "65.0"
            ]
          },
          "metadata": {
            "tags": []
          },
          "execution_count": 141
        }
      ]
    },
    {
      "cell_type": "code",
      "metadata": {
        "id": "uQvtqoWNzSWV",
        "colab_type": "code",
        "outputId": "d5e46c87-526a-406b-cae5-258880e3fe80",
        "colab": {}
      },
      "source": [
        "# Multiplication\n",
        "2*3"
      ],
      "execution_count": 0,
      "outputs": [
        {
          "output_type": "execute_result",
          "data": {
            "text/plain": [
              "6"
            ]
          },
          "metadata": {
            "tags": []
          },
          "execution_count": 143
        }
      ]
    },
    {
      "cell_type": "code",
      "metadata": {
        "id": "vfQBDBXPzSWZ",
        "colab_type": "code",
        "outputId": "69cbef20-c3c6-47c9-f00e-d3fd2133eb13",
        "colab": {}
      },
      "source": [
        "# Exponentiation ** \n",
        "# This operator raises the number to its left to the power of the number to its right \n",
        "2**3"
      ],
      "execution_count": 0,
      "outputs": [
        {
          "output_type": "execute_result",
          "data": {
            "text/plain": [
              "8"
            ]
          },
          "metadata": {
            "tags": []
          },
          "execution_count": 144
        }
      ]
    },
    {
      "cell_type": "code",
      "metadata": {
        "id": "EEIOl426zSWd",
        "colab_type": "code",
        "outputId": "afbfe368-c81a-4c74-f9ed-da110eb87b58",
        "colab": {}
      },
      "source": [
        "# Modulo\n",
        "# Returns the remainder of the division of the number to the left by the \n",
        "# number on its right. \n",
        "9%3"
      ],
      "execution_count": 0,
      "outputs": [
        {
          "output_type": "execute_result",
          "data": {
            "text/plain": [
              "0"
            ]
          },
          "metadata": {
            "tags": []
          },
          "execution_count": 145
        }
      ]
    },
    {
      "cell_type": "markdown",
      "metadata": {
        "id": "jjv4hMvqzSWt",
        "colab_type": "text"
      },
      "source": [
        "## if statement"
      ]
    },
    {
      "cell_type": "markdown",
      "metadata": {
        "id": "OV_DMYbqzTRa",
        "colab_type": "text"
      },
      "source": [
        "<h1 align=\"center\">While Loop</h1>"
      ]
    },
    {
      "cell_type": "markdown",
      "metadata": {
        "id": "Huj3crfbzSWu",
        "colab_type": "text"
      },
      "source": [
        "Comparison Operator | Function\n",
        "--- | --- \n",
        "< | less than\n",
        "<= | less than or equal to\n",
        "> | greater than\n",
        ">= | greater than or equal to\n",
        "== | equal\n",
        "!= | not equal"
      ]
    },
    {
      "cell_type": "markdown",
      "metadata": {
        "id": "gQDQlWTgzSWv",
        "colab_type": "text"
      },
      "source": [
        "check if something is True, if it is, do it. If it is not True (False), don't do it<br>"
      ]
    },
    {
      "cell_type": "code",
      "metadata": {
        "id": "6UVLfqFjzSWx",
        "colab_type": "code",
        "outputId": "21a8518d-053e-4fe7-f3be-5b72bc6bd0b4",
        "colab": {}
      },
      "source": [
        "# Notice you have to indent after you start a if statement. \n",
        "num = 3\n",
        "if num == 3: \n",
        "    print(num)"
      ],
      "execution_count": 0,
      "outputs": [
        {
          "output_type": "stream",
          "text": [
            "3\n"
          ],
          "name": "stdout"
        }
      ]
    },
    {
      "cell_type": "code",
      "metadata": {
        "id": "jCH6gdZyzSW0",
        "colab_type": "code",
        "colab": {}
      },
      "source": [
        "# Nothing is outputted because num > 10 is FALSE\n",
        "num = 3\n",
        "if num > 10:\n",
        "    print(num)"
      ],
      "execution_count": 0,
      "outputs": []
    },
    {
      "cell_type": "code",
      "metadata": {
        "id": "9VK9pjZuzSW2",
        "colab_type": "code",
        "outputId": "926a8ae6-591c-40ad-ae0f-22e3711df432",
        "colab": {}
      },
      "source": [
        "num = 3\n",
        "if num % 3 == 0:\n",
        "    print(\"Fizz\")"
      ],
      "execution_count": 0,
      "outputs": [
        {
          "output_type": "stream",
          "text": [
            "Fizz\n"
          ],
          "name": "stdout"
        }
      ]
    },
    {
      "cell_type": "code",
      "metadata": {
        "id": "LMsvNwMazSW4",
        "colab_type": "code",
        "outputId": "34f28df0-3b64-4263-d9f1-87a5c8dafdad",
        "colab": {}
      },
      "source": [
        "num = 10\n",
        "if num % 5 == 0:\n",
        "    print(\"Buzz\")"
      ],
      "execution_count": 0,
      "outputs": [
        {
          "output_type": "stream",
          "text": [
            "Buzz\n"
          ],
          "name": "stdout"
        }
      ]
    },
    {
      "cell_type": "code",
      "metadata": {
        "id": "r2zLJdWkzSW6",
        "colab_type": "code",
        "outputId": "bd215c84-35ef-4720-bccf-a5d11cefba19",
        "colab": {}
      },
      "source": [
        "if True:\n",
        "    print(\"This was True\")"
      ],
      "execution_count": 0,
      "outputs": [
        {
          "output_type": "stream",
          "text": [
            "This was True\n"
          ],
          "name": "stdout"
        }
      ]
    },
    {
      "cell_type": "code",
      "metadata": {
        "id": "VEM9bLZRzSW_",
        "colab_type": "code",
        "colab": {}
      },
      "source": [
        "if False: \n",
        "    print(\"Nothing printed\")"
      ],
      "execution_count": 0,
      "outputs": []
    },
    {
      "cell_type": "markdown",
      "metadata": {
        "id": "ff8_LtkWzSXE",
        "colab_type": "text"
      },
      "source": [
        "Logical Operator | Description\n",
        "--- | ---\n",
        "and | If both the operands are True then condition becomes True.\n",
        "or | If any of the two operands are True then condition becomes True. \n",
        "not | Used to reverse the logical (not False becomes True, not True becomes False)"
      ]
    },
    {
      "cell_type": "code",
      "metadata": {
        "id": "3xdiKI2yzSXE",
        "colab_type": "code",
        "outputId": "ce68fdb4-7881-446b-f2a9-2bd253114799",
        "colab": {}
      },
      "source": [
        "num = 4\n",
        "num > 0 and num  < 15"
      ],
      "execution_count": 0,
      "outputs": [
        {
          "output_type": "execute_result",
          "data": {
            "text/plain": [
              "True"
            ]
          },
          "metadata": {
            "tags": []
          },
          "execution_count": 152
        }
      ]
    },
    {
      "cell_type": "code",
      "metadata": {
        "id": "Iz0bouTXzSXH",
        "colab_type": "code",
        "outputId": "5ae089ea-a036-4c8d-c633-2753723dc22f",
        "colab": {}
      },
      "source": [
        "# both the conditions are true, so the num will be printed out\n",
        "if num > 0 and num  < 15:\n",
        "    print(num)"
      ],
      "execution_count": 0,
      "outputs": [
        {
          "output_type": "stream",
          "text": [
            "4\n"
          ],
          "name": "stdout"
        }
      ]
    },
    {
      "cell_type": "code",
      "metadata": {
        "id": "2dwEEee6zSXL",
        "colab_type": "code",
        "outputId": "4cdeba4f-2f84-4d84-fd0d-1d09d2fc3b71",
        "colab": {}
      },
      "source": [
        "# num > 0 is True, num > 15 is False\n",
        "# Since the first condition is True, it is True\n",
        "num = 4\n",
        "num > 0 or num  > 15"
      ],
      "execution_count": 0,
      "outputs": [
        {
          "output_type": "execute_result",
          "data": {
            "text/plain": [
              "True"
            ]
          },
          "metadata": {
            "tags": []
          },
          "execution_count": 154
        }
      ]
    },
    {
      "cell_type": "code",
      "metadata": {
        "id": "kax1DZJAzSXP",
        "colab_type": "code",
        "outputId": "c6e67a21-6d26-4374-a38f-b7d4ec89ce21",
        "colab": {}
      },
      "source": [
        "if num > 0 or num  > 15:\n",
        "    print(num)"
      ],
      "execution_count": 0,
      "outputs": [
        {
          "output_type": "stream",
          "text": [
            "4\n"
          ],
          "name": "stdout"
        }
      ]
    },
    {
      "cell_type": "code",
      "metadata": {
        "id": "PaYzWjNYzSXT",
        "colab_type": "code",
        "colab": {}
      },
      "source": [
        "# or will only evaluate to False if both are False\n",
        "if False or False:\n",
        "    print('Nothing will print out')"
      ],
      "execution_count": 0,
      "outputs": []
    },
    {
      "cell_type": "code",
      "metadata": {
        "id": "S__LAoYRzSXX",
        "colab_type": "code",
        "outputId": "afcccea3-e0a8-465f-895e-6171fb87556a",
        "colab": {}
      },
      "source": [
        "num = 10\n",
        "not num < 20 "
      ],
      "execution_count": 0,
      "outputs": [
        {
          "output_type": "execute_result",
          "data": {
            "text/plain": [
              "False"
            ]
          },
          "metadata": {
            "tags": []
          },
          "execution_count": 157
        }
      ]
    },
    {
      "cell_type": "markdown",
      "metadata": {
        "id": "V1YjNjvTzSXa",
        "colab_type": "text"
      },
      "source": [
        "## else statement"
      ]
    },
    {
      "cell_type": "markdown",
      "metadata": {
        "id": "FNHvTI3LzSXb",
        "colab_type": "text"
      },
      "source": [
        "Must be after an if or elif statement. There can be at most one else statement. Will only be executed if all the \"if\" and \"elif\" statements above it are False. "
      ]
    },
    {
      "cell_type": "code",
      "metadata": {
        "id": "vlB1g4PMzSXe",
        "colab_type": "code",
        "colab": {}
      },
      "source": [
        "num = 1\n",
        "if num > 3 :\n",
        "    print(\"Hi\")"
      ],
      "execution_count": 0,
      "outputs": []
    },
    {
      "cell_type": "code",
      "metadata": {
        "id": "Sk0oEgArzSXj",
        "colab_type": "code",
        "outputId": "14421963-864b-4293-e6b9-caa45302c6ef",
        "colab": {}
      },
      "source": [
        "\"\"\"We will execute what is inside the else statement\n",
        "because num is not greater than 3\n",
        "\"\"\"\n",
        "num = 1\n",
        "if num > 3 :\n",
        "    print(\"Hi\")\n",
        "else: \n",
        "    print(\"number is not greater than 3\")"
      ],
      "execution_count": 0,
      "outputs": [
        {
          "output_type": "stream",
          "text": [
            "number is not greater than 3\n"
          ],
          "name": "stdout"
        }
      ]
    },
    {
      "cell_type": "code",
      "metadata": {
        "id": "3O-ZQQUmzSXn",
        "colab_type": "code",
        "outputId": "c4752798-2ee3-4f23-864d-a26de0a7f97c",
        "colab": {}
      },
      "source": [
        "\"\"\"We will execute what is inside the if statement because num > 4\"\"\"\n",
        "num = 4\n",
        "if num > 3 :\n",
        "    print(\"Hi\")\n",
        "else: \n",
        "    print(\"number is not greater than 3\")"
      ],
      "execution_count": 0,
      "outputs": [
        {
          "output_type": "stream",
          "text": [
            "Hi\n"
          ],
          "name": "stdout"
        }
      ]
    },
    {
      "cell_type": "markdown",
      "metadata": {
        "id": "EU2UTf-5zSYN",
        "colab_type": "text"
      },
      "source": [
        "## Lists"
      ]
    },
    {
      "cell_type": "code",
      "metadata": {
        "id": "6nDhIcFJzSYS",
        "colab_type": "code",
        "colab": {}
      },
      "source": [
        "# Defining a list\n",
        "z = [3, 7, 4, 2]"
      ],
      "execution_count": 0,
      "outputs": []
    },
    {
      "cell_type": "markdown",
      "metadata": {
        "id": "2cieLafMzSYU",
        "colab_type": "text"
      },
      "source": [
        "### Accessing Values in List"
      ]
    },
    {
      "cell_type": "code",
      "metadata": {
        "id": "s7HTC1a6zSYV",
        "colab_type": "code",
        "outputId": "1d626cf4-f796-4a88-d5d4-77d9f4dbe3cd",
        "colab": {}
      },
      "source": [
        "# The first element of a list is at index 0\n",
        "z[0]"
      ],
      "execution_count": 0,
      "outputs": [
        {
          "output_type": "execute_result",
          "data": {
            "text/plain": [
              "3"
            ]
          },
          "metadata": {
            "tags": []
          },
          "execution_count": 3
        }
      ]
    },
    {
      "cell_type": "code",
      "metadata": {
        "id": "3cSREmxjzSYZ",
        "colab_type": "code",
        "outputId": "a28635f3-9be7-425f-e3fd-c8842d2379a9",
        "colab": {}
      },
      "source": [
        "z[2]"
      ],
      "execution_count": 0,
      "outputs": [
        {
          "output_type": "execute_result",
          "data": {
            "text/plain": [
              "4"
            ]
          },
          "metadata": {
            "tags": []
          },
          "execution_count": 4
        }
      ]
    },
    {
      "cell_type": "code",
      "metadata": {
        "id": "wL5rAIZezSYe",
        "colab_type": "code",
        "outputId": "2b8d3076-0c06-487e-b671-3e36e50d960b",
        "colab": {}
      },
      "source": [
        "# Access Last Element of List \n",
        "z[-2]"
      ],
      "execution_count": 0,
      "outputs": [
        {
          "output_type": "execute_result",
          "data": {
            "text/plain": [
              "4"
            ]
          },
          "metadata": {
            "tags": []
          },
          "execution_count": 6
        }
      ]
    },
    {
      "cell_type": "markdown",
      "metadata": {
        "collapsed": true,
        "id": "xK7jHfRdzSYj",
        "colab_type": "text"
      },
      "source": [
        "### Slicing Lists"
      ]
    },
    {
      "cell_type": "code",
      "metadata": {
        "id": "UYTLjnIrzSYk",
        "colab_type": "code",
        "outputId": "c1bb7cfd-cb6a-480c-e10d-93815bcd747b",
        "colab": {}
      },
      "source": [
        "# first index is inclusive (before the :) and last (after the :) is not. \n",
        "# not including index 2\n",
        "z[0:2]"
      ],
      "execution_count": 0,
      "outputs": [
        {
          "output_type": "execute_result",
          "data": {
            "text/plain": [
              "[3, 7]"
            ]
          },
          "metadata": {
            "tags": []
          },
          "execution_count": 120
        }
      ]
    },
    {
      "cell_type": "code",
      "metadata": {
        "id": "lwEGRvyIzSYn",
        "colab_type": "code",
        "outputId": "eb4ad7aa-1ed0-4770-c573-fc7a894f9531",
        "colab": {}
      },
      "source": [
        "# everything up to index 3\n",
        "z[:3]"
      ],
      "execution_count": 0,
      "outputs": [
        {
          "output_type": "execute_result",
          "data": {
            "text/plain": [
              "[3, 7, 4]"
            ]
          },
          "metadata": {
            "tags": []
          },
          "execution_count": 22
        }
      ]
    },
    {
      "cell_type": "code",
      "metadata": {
        "id": "yJhRorUYzSYr",
        "colab_type": "code",
        "outputId": "588e8410-3781-4982-b20e-c03d29d1aebf",
        "colab": {}
      },
      "source": [
        "# index 1 to end of list\n",
        "z[1:]"
      ],
      "execution_count": 0,
      "outputs": [
        {
          "output_type": "execute_result",
          "data": {
            "text/plain": [
              "[7, 4, 2]"
            ]
          },
          "metadata": {
            "tags": []
          },
          "execution_count": 47
        }
      ]
    },
    {
      "cell_type": "markdown",
      "metadata": {
        "id": "czhwnsd5zSYv",
        "colab_type": "text"
      },
      "source": [
        "### Minimum, Maximum, Length, and Sum of a list"
      ]
    },
    {
      "cell_type": "code",
      "metadata": {
        "id": "VHTZ5atrzSYw",
        "colab_type": "code",
        "outputId": "a730f33e-ce0c-49e3-a245-8dc6c92f03c4",
        "colab": {}
      },
      "source": [
        "print(min(z), max(z), len(z), sum(z))"
      ],
      "execution_count": 0,
      "outputs": [
        {
          "output_type": "stream",
          "text": [
            "2 7 4 16\n"
          ],
          "name": "stdout"
        }
      ]
    },
    {
      "cell_type": "markdown",
      "metadata": {
        "id": "QZzfw22szSY0",
        "colab_type": "text"
      },
      "source": [
        "### Count Number of Times Value is in List"
      ]
    },
    {
      "cell_type": "code",
      "metadata": {
        "id": "BFepf9KuzSY2",
        "colab_type": "code",
        "outputId": "1328071e-20c7-4afa-f627-8a5e52ef2e3b",
        "colab": {}
      },
      "source": [
        "random_list = [4, 1, 5, 4, 10, 4]\n",
        "random_list.count(4)"
      ],
      "execution_count": 0,
      "outputs": [
        {
          "output_type": "execute_result",
          "data": {
            "text/plain": [
              "3"
            ]
          },
          "metadata": {
            "tags": []
          },
          "execution_count": 8
        }
      ]
    },
    {
      "cell_type": "markdown",
      "metadata": {
        "id": "xFBIyAaZzSY3",
        "colab_type": "text"
      },
      "source": [
        "### Return First Index of Value"
      ]
    },
    {
      "cell_type": "markdown",
      "metadata": {
        "id": "ZRcEOqtNzSY4",
        "colab_type": "text"
      },
      "source": [
        " |  |  |  |  |  |\n",
        "--- | --- | --- | --- | --- | --- | ---\n",
        "random_list =| [4, | 1, | 5, | 4, | 10, | 4]\n",
        "index=| 0 | 1 | 2 | 3 | 4 | 5"
      ]
    },
    {
      "cell_type": "code",
      "metadata": {
        "id": "jEMFYmUKzSY4",
        "colab_type": "code",
        "outputId": "83d72ed3-3ae2-4f62-911a-2c109bfdb858",
        "colab": {}
      },
      "source": [
        "random_list.index(4)"
      ],
      "execution_count": 0,
      "outputs": [
        {
          "output_type": "execute_result",
          "data": {
            "text/plain": [
              "0"
            ]
          },
          "metadata": {
            "tags": []
          },
          "execution_count": 9
        }
      ]
    },
    {
      "cell_type": "code",
      "metadata": {
        "id": "GyOfF7tIzSY6",
        "colab_type": "code",
        "outputId": "e8c26743-023b-43d3-897a-522c2d9b9a2e",
        "colab": {}
      },
      "source": [
        "# you can specify where you start your search\n",
        "random_list.index(4, 3)"
      ],
      "execution_count": 0,
      "outputs": [
        {
          "output_type": "execute_result",
          "data": {
            "text/plain": [
              "3"
            ]
          },
          "metadata": {
            "tags": []
          },
          "execution_count": 75
        }
      ]
    },
    {
      "cell_type": "code",
      "metadata": {
        "id": "HYOjyYxSzSY8",
        "colab_type": "code",
        "outputId": "3c028bd7-0f23-4f75-ca6c-d287b5dfcaf0",
        "colab": {}
      },
      "source": [
        "# random_list.index(value, [start, stop])\n",
        "random_list.index(4, 5, 6)"
      ],
      "execution_count": 0,
      "outputs": [
        {
          "output_type": "execute_result",
          "data": {
            "text/plain": [
              "5"
            ]
          },
          "metadata": {
            "tags": []
          },
          "execution_count": 180
        }
      ]
    },
    {
      "cell_type": "markdown",
      "metadata": {
        "colab_type": "text",
        "id": "sGiv5IqK4HcE"
      },
      "source": [
        "### Sorting a list "
      ]
    },
    {
      "cell_type": "code",
      "metadata": {
        "id": "hs5euIwMzSY-",
        "colab_type": "code",
        "colab": {}
      },
      "source": [
        "x = [3, 7, 2, 11, 8, 10, 4]\n",
        "y = ['Steve', 'Rachel', 'Michael', 'Adam', 'Monica', 'Jessica', 'Lester']"
      ],
      "execution_count": 0,
      "outputs": []
    },
    {
      "cell_type": "code",
      "metadata": {
        "colab_type": "code",
        "outputId": "2eb03036-070f-441e-b056-adf544e134a5",
        "id": "ANpWH0u04HcL",
        "colab": {}
      },
      "source": [
        "# Sorting and Altering original list\n",
        "# low to high\n",
        "x.sort()\n",
        "print(x)"
      ],
      "execution_count": 0,
      "outputs": [
        {
          "output_type": "stream",
          "text": [
            "[2, 3, 4, 7, 8, 10, 11]\n"
          ],
          "name": "stdout"
        }
      ]
    },
    {
      "cell_type": "code",
      "metadata": {
        "id": "XIdDpUO9zSZD",
        "colab_type": "code",
        "outputId": "926ac21b-cbcf-4bc4-a0bc-32b5ace3bded",
        "colab": {}
      },
      "source": [
        "# Sorting and Altering original list\n",
        "# high to low\n",
        "x.sort(reverse = True)\n",
        "print(x)"
      ],
      "execution_count": 0,
      "outputs": [
        {
          "output_type": "stream",
          "text": [
            "[11, 10, 8, 7, 4, 3, 2]\n"
          ],
          "name": "stdout"
        }
      ]
    },
    {
      "cell_type": "code",
      "metadata": {
        "id": "Q38J9x9PzSZI",
        "colab_type": "code",
        "outputId": "fdb97908-e524-49fc-e9b3-80f752e08402",
        "colab": {}
      },
      "source": [
        "# Sorting and Altering original list\n",
        "# A-Z\n",
        "y.sort()\n",
        "print(y)"
      ],
      "execution_count": 0,
      "outputs": [
        {
          "output_type": "stream",
          "text": [
            "['Adam', 'Jessica', 'Lester', 'Michael', 'Monica', 'Rachel', 'Steve']\n"
          ],
          "name": "stdout"
        }
      ]
    },
    {
      "cell_type": "code",
      "metadata": {
        "id": "EVbQu9M6zSZK",
        "colab_type": "code",
        "outputId": "93fcae28-f10c-41bf-c5b0-34bd1fb52229",
        "colab": {}
      },
      "source": [
        "# Sorting and Altering original list\n",
        "# Z-A\n",
        "y.sort(reverse = True)\n",
        "print(y)"
      ],
      "execution_count": 0,
      "outputs": [
        {
          "output_type": "stream",
          "text": [
            "['Steve', 'Rachel', 'Monica', 'Michael', 'Lester', 'Jessica', 'Adam']\n"
          ],
          "name": "stdout"
        }
      ]
    },
    {
      "cell_type": "code",
      "metadata": {
        "id": "qmt1ynjszSZM",
        "colab_type": "code",
        "outputId": "6be712eb-333a-411d-d878-521d9388e830",
        "colab": {}
      },
      "source": [
        "# sorting list WITHOUT altering original list \n",
        "new_list = sorted(y)\n",
        "new_list"
      ],
      "execution_count": 0,
      "outputs": [
        {
          "output_type": "execute_result",
          "data": {
            "text/plain": [
              "['Adam', 'Jessica', 'Lester', 'Michael', 'Monica', 'Rachel', 'Steve']"
            ]
          },
          "metadata": {
            "tags": []
          },
          "execution_count": 20
        }
      ]
    },
    {
      "cell_type": "code",
      "metadata": {
        "id": "CZnzlkbRzSZN",
        "colab_type": "code",
        "outputId": "0cd542d8-a860-45cc-ca82-2aac357c487a",
        "colab": {}
      },
      "source": [
        "# notice y is unchanged\n",
        "y"
      ],
      "execution_count": 0,
      "outputs": [
        {
          "output_type": "execute_result",
          "data": {
            "text/plain": [
              "['Steve', 'Rachel', 'Monica', 'Michael', 'Lester', 'Jessica', 'Adam']"
            ]
          },
          "metadata": {
            "tags": []
          },
          "execution_count": 21
        }
      ]
    },
    {
      "cell_type": "code",
      "metadata": {
        "id": "ALVC7D_G4NvY",
        "colab_type": "code",
        "colab": {}
      },
      "source": [
        ""
      ],
      "execution_count": 0,
      "outputs": []
    },
    {
      "cell_type": "markdown",
      "metadata": {
        "id": "0rT7jM_izU04",
        "colab_type": "text"
      },
      "source": [
        "<h1 align=\"center\"> For Loops </h1>"
      ]
    },
    {
      "cell_type": "markdown",
      "metadata": {
        "id": "2W2PWopgzU08",
        "colab_type": "text"
      },
      "source": [
        "For loops are a common way to iterate over the elements of an object (in this first example, a list)<br>\n",
        "Any object with an iterable method can be used in a for loop."
      ]
    },
    {
      "cell_type": "markdown",
      "metadata": {
        "id": "UqflpafIzU0-",
        "colab_type": "text"
      },
      "source": [
        "One unique feature of python is that code blocks are NOT surrounded by {} begin,end. Instead, python uses indentation, The lines inside a block have to be indented by a tab, or by 4 spaces, relative to the surrounding commands."
      ]
    },
    {
      "cell_type": "markdown",
      "metadata": {
        "id": "LZ9kVT8pzU1A",
        "colab_type": "text"
      },
      "source": [
        "While this might seem unintuitive at first, it encourages writing more readable code, over time, you'd learn to love it!"
      ]
    },
    {
      "cell_type": "code",
      "metadata": {
        "id": "UrtJKnYkzU1B",
        "colab_type": "code",
        "outputId": "124d0ced-5a2a-4308-861d-fd3b1e958920",
        "colab": {}
      },
      "source": [
        "# The Python for statement iterates over the members of a sequence in order,\n",
        "# executing the block each time. \n",
        "\n",
        "# take the first member of the list (iterable), call it number temporarily do something with it (print it)\n",
        "# take second member of the list (iterable), call it number temporarily do something through and so on...\n",
        "for number in [23, 41, 12, 16, 7]: \n",
        "    print(number)\n",
        "print('Hi')"
      ],
      "execution_count": 0,
      "outputs": [
        {
          "output_type": "stream",
          "text": [
            "23\n",
            "41\n",
            "12\n",
            "16\n",
            "7\n",
            "Hi\n"
          ],
          "name": "stdout"
        }
      ]
    },
    {
      "cell_type": "markdown",
      "metadata": {
        "id": "WaOtUl9czU1I",
        "colab_type": "text"
      },
      "source": [
        "### Emunerate"
      ]
    },
    {
      "cell_type": "markdown",
      "metadata": {
        "id": "fx5Xx_arzU1J",
        "colab_type": "text"
      },
      "source": [
        "Returns a tuple containing a count for every iteration (from start which defaults to 0) and the values obtained from iterating over sequence:"
      ]
    },
    {
      "cell_type": "code",
      "metadata": {
        "id": "uWUcPajozU1L",
        "colab_type": "code",
        "outputId": "04f42d6d-50e8-4b48-f9b1-d7294fa7b4eb",
        "colab": {}
      },
      "source": [
        "friends = ['steve', 'rachel', 'michael', 'adam', 'monica']\n",
        "for index, friend in enumerate(friends):\n",
        "    print(index,friend)"
      ],
      "execution_count": 0,
      "outputs": [
        {
          "output_type": "stream",
          "text": [
            "0 steve\n",
            "1 rachel\n",
            "2 michael\n",
            "3 adam\n",
            "4 monica\n"
          ],
          "name": "stdout"
        }
      ]
    },
    {
      "cell_type": "markdown",
      "metadata": {
        "id": "HCsBCjZozU2X",
        "colab_type": "text"
      },
      "source": [
        "### Break"
      ]
    },
    {
      "cell_type": "markdown",
      "metadata": {
        "id": "AHgeNtL-zU2a",
        "colab_type": "text"
      },
      "source": [
        "break statement will completely break out of loop "
      ]
    },
    {
      "cell_type": "code",
      "metadata": {
        "id": "guRTpob1zU2c",
        "colab_type": "code",
        "colab": {}
      },
      "source": [
        "cleaned_list = []"
      ],
      "execution_count": 0,
      "outputs": []
    },
    {
      "cell_type": "code",
      "metadata": {
        "id": "_VYrn6izzU2h",
        "colab_type": "code",
        "outputId": "d430cfcd-b63c-4759-8a72-0a2141388d9a",
        "colab": {}
      },
      "source": [
        "for word in text.split(' '): \n",
        "    if word == 'desert':\n",
        "        print('I found the word I was looking for')\n",
        "        break\n",
        "    cleaned_list.append(word)\n",
        "cleaned_list"
      ],
      "execution_count": 0,
      "outputs": [
        {
          "output_type": "stream",
          "text": [
            "I found the word I was looking for\n"
          ],
          "name": "stdout"
        },
        {
          "output_type": "execute_result",
          "data": {
            "text/plain": [
              "['On', 'a', 'dark']"
            ]
          },
          "metadata": {
            "tags": []
          },
          "execution_count": 72
        }
      ]
    },
    {
      "cell_type": "markdown",
      "metadata": {
        "id": "0PPEY5BEzUU9",
        "colab_type": "text"
      },
      "source": [
        "<h1 align=\"center\"> Functions </h1>"
      ]
    },
    {
      "cell_type": "code",
      "metadata": {
        "id": "-cahVHafzUVB",
        "colab_type": "code",
        "colab": {}
      },
      "source": [
        ""
      ],
      "execution_count": 0,
      "outputs": []
    },
    {
      "cell_type": "markdown",
      "metadata": {
        "id": "0yIUouG8zUVG",
        "colab_type": "text"
      },
      "source": [
        "## Python Functions to Remove Duplicates from List"
      ]
    },
    {
      "cell_type": "code",
      "metadata": {
        "id": "guDeoV1HzUVH",
        "colab_type": "code",
        "outputId": "98460dd2-8784-46be-e0e7-be91c9cf7aaa",
        "colab": {}
      },
      "source": [
        "# Python code to remove duplicate elements from list\n",
        "\n",
        "def remove_duplicates(duplicate): \n",
        "    uniques = [] \n",
        "    for num in duplicate: \n",
        "        if num not in uniques: \n",
        "            uniques.append(num) \n",
        "    return(uniques)\n",
        "      \n",
        "duplicate = [2, 4, 10, 20, 5, 2, 20, 4] \n",
        "print(remove_duplicates(duplicate)) "
      ],
      "execution_count": 0,
      "outputs": [
        {
          "output_type": "stream",
          "text": [
            "[2, 4, 10, 20, 5]\n"
          ],
          "name": "stdout"
        }
      ]
    },
    {
      "cell_type": "markdown",
      "metadata": {
        "id": "XBqdqr1xzUVN",
        "colab_type": "text"
      },
      "source": [
        "Another thing that is worth mentioning when you’re working with the return statement is the fact that you can use it to return multiple values. To do this, you make use of tuples."
      ]
    }
  ]
}